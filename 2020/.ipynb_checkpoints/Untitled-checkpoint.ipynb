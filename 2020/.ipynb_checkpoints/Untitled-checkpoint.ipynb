{
 "cells": [
  {
   "cell_type": "code",
   "execution_count": 69,
   "metadata": {},
   "outputs": [],
   "source": [
    "fn = \"a_solar.txt\"\n",
    "f = open(fn, \"r\")"
   ]
  },
  {
   "cell_type": "code",
   "execution_count": 70,
   "metadata": {},
   "outputs": [
    {
     "name": "stdout",
     "output_type": "stream",
     "text": [
      "5 3\n",
      "\n"
     ]
    }
   ],
   "source": [
    "#Line 1\n",
    "l1 = f.readline()\n",
    "print(l1)"
   ]
  },
  {
   "cell_type": "code",
   "execution_count": 71,
   "metadata": {},
   "outputs": [],
   "source": [
    "W = int(l1.split()[0])\n",
    "H = int(l1.split()[1])"
   ]
  },
  {
   "cell_type": "code",
   "execution_count": 72,
   "metadata": {},
   "outputs": [],
   "source": [
    "map_conv = {'#' : 0, '_':1, 'M':2}\n",
    "def read_map(f):\n",
    "    map_int = []\n",
    "    map_c = []\n",
    "    for x in range(H):\n",
    "        line = f.readline()\n",
    "        int_line = [map_conv[i] for i in list(line)[:-1] ] \n",
    "        char_line = list(line)[:-1]\n",
    "        map_int.append(int_line)\n",
    "        map_c.append(char_line)\n",
    "    return map_int, map_c"
   ]
  },
  {
   "cell_type": "code",
   "execution_count": 73,
   "metadata": {},
   "outputs": [],
   "source": [
    "map_int, map_c = read_map(f)\n"
   ]
  },
  {
   "cell_type": "code",
   "execution_count": 74,
   "metadata": {},
   "outputs": [],
   "source": [
    "D = int(f.readline().split()[0]) "
   ]
  },
  {
   "cell_type": "code",
   "execution_count": 75,
   "metadata": {},
   "outputs": [],
   "source": [
    "class Developer:\n",
    "    def __init__(self,compagnia=\"\",bonus=0,n_skills=0, skills=[] ):\n",
    "        self.compagnia = compagnia\n",
    "        self.bonus = bonus\n",
    "        self.n_skills = n_skills\n",
    "        self.skills = skills"
   ]
  },
  {
   "cell_type": "code",
   "execution_count": 76,
   "metadata": {},
   "outputs": [
    {
     "name": "stdout",
     "output_type": "stream",
     "text": [
      "['opn', '7', '2', 'java', 'bpm']\n",
      "['clstr', '5', '2', 'python', 'azure']\n",
      "['opn', '8', '2', 'python', 'java']\n",
      "['com_vl', '4', '3', 'java', 'cybersecurity', 'big_data']\n",
      "['mac', '1', '2', 'nlp', 'big_data']\n",
      "['clstr', '3', '2', 'azure', 'c#']\n",
      "['com_vl', '6', '2', 'cybersecurity', 'python']\n",
      "['opn', '2', '3', 'bpm', 'python', 'project_management']\n",
      "['ble', '5', '4', 'java', 'c', 'sql', 'junit']\n",
      "['clstr', '1', '4', 'python', 'c', 'java', 'bpm']\n"
     ]
    }
   ],
   "source": [
    "developers = []\n",
    "for n in range(D):\n",
    "    l = f.readline()\n",
    "    l_split = l.split()\n",
    "    print(l_split)\n",
    "    developer = Developer()\n",
    "    developer.compagnia = l_split[0]\n",
    "    developer.bonus = int(l_split[1])\n",
    "    developer.n_skills = int(l_split[2])\n",
    "    developer.skills = l_split[3:]\n",
    "    developers.append(developer)\n",
    "    "
   ]
  },
  {
   "cell_type": "code",
   "execution_count": 77,
   "metadata": {},
   "outputs": [],
   "source": [
    "class ProjecManager:\n",
    "    def __init__(self,compagnia=\"\",bonus=0):\n",
    "        self.compagnia = compagnia\n",
    "        self.bonus = bonus\n",
    "       "
   ]
  },
  {
   "cell_type": "code",
   "execution_count": 78,
   "metadata": {},
   "outputs": [],
   "source": [
    "M = int(f.readline().split()[0]) "
   ]
  },
  {
   "cell_type": "code",
   "execution_count": 79,
   "metadata": {},
   "outputs": [
    {
     "name": "stdout",
     "output_type": "stream",
     "text": [
      "['opn', '2']\n",
      "['ble', '1']\n",
      "['mac', '5']\n"
     ]
    }
   ],
   "source": [
    "pms = []\n",
    "for n in range(M):\n",
    "    l = f.readline()\n",
    "    l_split = l.split()\n",
    "    print(l_split)\n",
    "    pm = ProjecManager()\n",
    "    pm.compagnia = l_split[0]\n",
    "    pm.bonus = int(l_split[1])\n",
    "    pms.append(pm)\n",
    "    "
   ]
  },
  {
   "cell_type": "code",
   "execution_count": null,
   "metadata": {},
   "outputs": [],
   "source": []
  }
 ],
 "metadata": {
  "kernelspec": {
   "display_name": "Python 3",
   "language": "python",
   "name": "python3"
  },
  "language_info": {
   "codemirror_mode": {
    "name": "ipython",
    "version": 3
   },
   "file_extension": ".py",
   "mimetype": "text/x-python",
   "name": "python",
   "nbconvert_exporter": "python",
   "pygments_lexer": "ipython3",
   "version": "3.8.2"
  }
 },
 "nbformat": 4,
 "nbformat_minor": 4
}
