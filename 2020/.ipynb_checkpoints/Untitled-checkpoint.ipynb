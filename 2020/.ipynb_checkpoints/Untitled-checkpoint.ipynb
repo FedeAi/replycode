{
 "cells": [
  {
   "cell_type": "code",
   "execution_count": 221,
   "metadata": {},
   "outputs": [],
   "source": [
    "import pandas as pd\n",
    "import numpy as np\n",
    "fn = \"a_solar.txt\"\n",
    "f = open(fn, \"r\")"
   ]
  },
  {
   "cell_type": "code",
   "execution_count": 222,
   "metadata": {},
   "outputs": [
    {
     "name": "stdout",
     "output_type": "stream",
     "text": [
      "5 3\n",
      "\n"
     ]
    }
   ],
   "source": [
    "#Line 1\n",
    "l1 = f.readline()\n",
    "print(l1)"
   ]
  },
  {
   "cell_type": "code",
   "execution_count": 223,
   "metadata": {},
   "outputs": [],
   "source": [
    "W = int(l1.split()[0])\n",
    "H = int(l1.split()[1])"
   ]
  },
  {
   "cell_type": "code",
   "execution_count": 224,
   "metadata": {},
   "outputs": [],
   "source": [
    "map_conv = {'#' : 0, '_':1, 'M':2}\n",
    "def read_map(f):\n",
    "    map_int = []\n",
    "    map_c = []\n",
    "    for x in range(H):\n",
    "        line = f.readline()\n",
    "        int_line = [map_conv[i] for i in list(line)[:-1] ] \n",
    "        char_line = list(line)[:-1]\n",
    "        map_int.append(int_line)\n",
    "        map_c.append(char_line)\n",
    "    return map_int, map_c"
   ]
  },
  {
   "cell_type": "code",
   "execution_count": 225,
   "metadata": {},
   "outputs": [],
   "source": [
    "map_int, map_c = read_map(f)\n"
   ]
  },
  {
   "cell_type": "code",
   "execution_count": 226,
   "metadata": {},
   "outputs": [],
   "source": [
    "D = int(f.readline().split()[0]) "
   ]
  },
  {
   "cell_type": "code",
   "execution_count": 227,
   "metadata": {},
   "outputs": [],
   "source": [
    "class Developer:\n",
    "    def __init__(self,compagnia=\"\",bonus=0,n_skills=0, skills=[] ):\n",
    "        self.compagnia = compagnia\n",
    "        self.bonus = bonus\n",
    "        self.n_skills = n_skills\n",
    "        self.skills = skills"
   ]
  },
  {
   "cell_type": "code",
   "execution_count": 228,
   "metadata": {},
   "outputs": [],
   "source": [
    "developers = []\n",
    "for n in range(D):\n",
    "    l = f.readline()\n",
    "    l_split = l.split()\n",
    "    developer = Developer()\n",
    "    developer.compagnia = l_split[0]\n",
    "    developer.bonus = int(l_split[1])\n",
    "    developer.n_skills = int(l_split[2])\n",
    "    developer.skills = l_split[3:]\n",
    "    developers.append(developer)\n",
    "    "
   ]
  },
  {
   "cell_type": "code",
   "execution_count": 229,
   "metadata": {},
   "outputs": [],
   "source": [
    "class ProjecManager:\n",
    "    def __init__(self,compagnia=\"\",bonus=0):\n",
    "        self.compagnia = compagnia\n",
    "        self.bonus = bonus\n",
    "       "
   ]
  },
  {
   "cell_type": "code",
   "execution_count": 230,
   "metadata": {},
   "outputs": [],
   "source": [
    "M = int(f.readline().split()[0]) "
   ]
  },
  {
   "cell_type": "code",
   "execution_count": 231,
   "metadata": {},
   "outputs": [],
   "source": [
    "pms = []\n",
    "for n in range(M):\n",
    "    l = f.readline()\n",
    "    l_split = l.split()\n",
    "    pm = ProjecManager()\n",
    "    pm.compagnia = l_split[0]\n",
    "    pm.bonus = int(l_split[1])\n",
    "    pms.append(pm)\n",
    "    "
   ]
  },
  {
   "cell_type": "code",
   "execution_count": 232,
   "metadata": {},
   "outputs": [],
   "source": [
    "compagnia = [pm.compagnia for pm in pms]\n",
    "bonus = [pm.bonus for pm in pms]\n",
    "d = {'compagnia': compagnia, 'bonus': bonus}\n",
    "pms_pandas = pd.DataFrame(d)"
   ]
  },
  {
   "cell_type": "code",
   "execution_count": 233,
   "metadata": {},
   "outputs": [],
   "source": [
    "compagnia = [dev.compagnia for dev in developers]\n",
    "bonus = [dev.bonus for dev in developers]\n",
    "n_skills = [dev.n_skills for dev in developers]\n",
    "skills = [dev.skills for dev in developers]\n",
    "d = {'compagnia': compagnia, 'bonus': bonus, 'n_skills': n_skills, 'skills':skills}\n",
    "dev_pandas = pd.DataFrame(d)"
   ]
  },
  {
   "cell_type": "code",
   "execution_count": 234,
   "metadata": {},
   "outputs": [],
   "source": [
    "def points_dev_dev(developer1 = Developer(), developer2 = Developer()):\n",
    "    common_skills = 0\n",
    "    for i in range(developer1.n_skills):\n",
    "        for j in range(i, developer2.n_skills):\n",
    "            if developer1.skills[i] == developer2.skills[j]:\n",
    "                common_skills = common_skills + 1\n",
    "    diff_skills = developer1.n_skills + developer2.n_skills - (common_skills * 2)\n",
    "    if developer1.compagnia == developer2.compagnia:\n",
    "        bonus_potential = developer1.bonus * developer2.bonus\n",
    "    else:\n",
    "        bonus_potential = 0\n",
    "    working_potential = common_skills * diff_skills\n",
    "    points = bonus_potential + working_potential\n",
    "    return points\n",
    "\n",
    "\n",
    "def points_pm(developer1, developer2):\n",
    "    if developer1.compagnia == developer2.compagnia:\n",
    "        bonus_potential = developer1.bonus * developer2.bonus\n",
    "    else:\n",
    "        bonus_potential = 0\n",
    "    return bonus_potential\n",
    "\n",
    "def points_dev_dev_pandas(developer1, developer2):\n",
    "    common_skills = 0\n",
    "    for i in range(developer1['n_skills']):\n",
    "        for j in range(i, developer2['n_skills']):\n",
    "            if developer1['skills'][i] == developer2['skills'][j]:\n",
    "                common_skills = common_skills + 1\n",
    "    diff_skills = developer1['n_skills'] + developer2['n_skills'] - (common_skills * 2)\n",
    "    if developer1['compagnia'] == developer2['compagnia']:\n",
    "        bonus_potential = developer1['bonus'] * developer2['bonus']\n",
    "    else:\n",
    "        bonus_potential = 0\n",
    "    working_potential = common_skills * diff_skills\n",
    "    points = bonus_potential + working_potential\n",
    "    return points\n",
    "\n",
    "\n",
    "def points_pm_pandas(developer1, developer2):\n",
    "    if developer1['compagnia'] == developer2['compagnia']:\n",
    "        bonus_potential = developer1['bonus'] * developer2['bonus']\n",
    "    else:\n",
    "        bonus_potential = 0\n",
    "    return bonus_potential\n"
   ]
  },
  {
   "cell_type": "code",
   "execution_count": 235,
   "metadata": {},
   "outputs": [],
   "source": [
    "dev_pandas_sorted = dev_pandas.sort_values('compagnia', ascending=False)\n",
    "pms_pandas_sorted = pms_pandas.sort_values('compagnia', ascending=False)"
   ]
  },
  {
   "cell_type": "code",
   "execution_count": 236,
   "metadata": {},
   "outputs": [
    {
     "data": {
      "text/plain": [
       "58"
      ]
     },
     "execution_count": 236,
     "metadata": {},
     "output_type": "execute_result"
    }
   ],
   "source": [
    "points_dev_dev_pandas(dev_pandas_sorted.iloc[0], dev_pandas_sorted.iloc[1])"
   ]
  },
  {
   "cell_type": "code",
   "execution_count": 237,
   "metadata": {},
   "outputs": [
    {
     "data": {
      "text/plain": [
       "[('abc', 121), ('abc', 148), ('abc', 221), ('abc', 231)]"
      ]
     },
     "execution_count": 237,
     "metadata": {},
     "output_type": "execute_result"
    }
   ],
   "source": [
    "sorted([('abc', 121),('abc', 231),('abc', 148), ('abc',221)], key=lambda x: x[1])\n"
   ]
  },
  {
   "cell_type": "code",
   "execution_count": 238,
   "metadata": {},
   "outputs": [],
   "source": [
    "test = [('abc', 121),('abc', 231),('abc', 148), ('abc',221)]\n",
    "match = [elem for elem in test if elem[1]==121]"
   ]
  },
  {
   "cell_type": "code",
   "execution_count": 239,
   "metadata": {},
   "outputs": [],
   "source": [
    "def sortSecond(val):\n",
    "    return val[2]\n",
    "\n",
    "\n",
    "couple_points = []\n",
    "\n",
    "\n",
    "def find_couples():\n",
    "    for i in range(len(dev_pandas_sorted)):\n",
    "        for j in range(i, len(dev_pandas_sorted)):\n",
    "            points = points_dev_dev_pandas(dev_pandas_sorted.iloc[i], dev_pandas_sorted.iloc[j])\n",
    "            couple_points.append([dev_pandas_sorted.index[i], dev_pandas_sorted.index[j], points, 0])\n",
    "    couple_points.sort(key=sortSecond)\n",
    "\n",
    "find_couples() # Call the function\n"
   ]
  },
  {
   "cell_type": "code",
   "execution_count": 249,
   "metadata": {},
   "outputs": [],
   "source": [
    "def find_n_best_matches(n, couple_points, dev_pandas_sorted):\n",
    "    idx = couple_points[0][0]\n",
    "    matches = find_matches(idx,couple_points)\n",
    "    n = n if len(matches) >= n else len(matches)\n",
    "    if n == 0:\n",
    "        return 0,[],couple_points\n",
    "    for match in matches[:n]:\n",
    "        couple_points.pop(match[1])\n",
    "        dev_pandas_sorted.drop(match[0][1])\n",
    "    return n, [couple_points[0],matches[:n][0]], couple_points\n",
    "\n",
    "def find_matches(elemid, array):\n",
    "    ids =[]\n",
    "    matches = [(elem,n) for n,elem in enumerate(array) if elem[1]==elemid]\n",
    "    #matches = sorted(matches, key=lambda x: x[2])\n",
    "    return matches\n",
    "\n"
   ]
  },
  {
   "cell_type": "code",
   "execution_count": 250,
   "metadata": {},
   "outputs": [
    {
     "name": "stdout",
     "output_type": "stream",
     "text": [
      "0\n"
     ]
    },
    {
     "ename": "IndexError",
     "evalue": "list index out of range",
     "output_type": "error",
     "traceback": [
      "\u001b[1;31m---------------------------------------------------------------------------\u001b[0m",
      "\u001b[1;31mIndexError\u001b[0m                                Traceback (most recent call last)",
      "\u001b[1;32m<ipython-input-250-88cdc65e2959>\u001b[0m in \u001b[0;36m<module>\u001b[1;34m\u001b[0m\n\u001b[1;32m----> 1\u001b[1;33m \u001b[0mfind_n_best_matches\u001b[0m\u001b[1;33m(\u001b[0m\u001b[1;36m1\u001b[0m\u001b[1;33m,\u001b[0m\u001b[0mcouple_points\u001b[0m\u001b[1;33m,\u001b[0m\u001b[0mdev_pandas_sorted\u001b[0m\u001b[1;33m)\u001b[0m\u001b[1;33m\u001b[0m\u001b[1;33m\u001b[0m\u001b[0m\n\u001b[0m",
      "\u001b[1;32m<ipython-input-249-3feaadb2e45d>\u001b[0m in \u001b[0;36mfind_n_best_matches\u001b[1;34m(n, couple_points, dev_pandas_sorted)\u001b[0m\n\u001b[0;32m      7\u001b[0m         \u001b[0mcouple_points\u001b[0m\u001b[1;33m.\u001b[0m\u001b[0mpop\u001b[0m\u001b[1;33m(\u001b[0m\u001b[0mmatch\u001b[0m\u001b[1;33m[\u001b[0m\u001b[1;36m1\u001b[0m\u001b[1;33m]\u001b[0m\u001b[1;33m)\u001b[0m\u001b[1;33m\u001b[0m\u001b[1;33m\u001b[0m\u001b[0m\n\u001b[0;32m      8\u001b[0m         \u001b[0mdev_pandas_sorted\u001b[0m\u001b[1;33m.\u001b[0m\u001b[0mdrop\u001b[0m\u001b[1;33m(\u001b[0m\u001b[0mmatch\u001b[0m\u001b[1;33m[\u001b[0m\u001b[1;36m0\u001b[0m\u001b[1;33m]\u001b[0m\u001b[1;33m[\u001b[0m\u001b[1;36m1\u001b[0m\u001b[1;33m]\u001b[0m\u001b[1;33m)\u001b[0m\u001b[1;33m\u001b[0m\u001b[1;33m\u001b[0m\u001b[0m\n\u001b[1;32m----> 9\u001b[1;33m     \u001b[1;32mreturn\u001b[0m \u001b[0mn\u001b[0m\u001b[1;33m,\u001b[0m \u001b[1;33m[\u001b[0m\u001b[0mcouple_points\u001b[0m\u001b[1;33m[\u001b[0m\u001b[1;36m0\u001b[0m\u001b[1;33m]\u001b[0m\u001b[1;33m,\u001b[0m\u001b[0mmatches\u001b[0m\u001b[1;33m[\u001b[0m\u001b[1;33m:\u001b[0m\u001b[0mn\u001b[0m\u001b[1;33m]\u001b[0m\u001b[1;33m[\u001b[0m\u001b[1;36m0\u001b[0m\u001b[1;33m]\u001b[0m\u001b[1;33m]\u001b[0m\u001b[1;33m,\u001b[0m \u001b[0mcouple_points\u001b[0m\u001b[1;33m\u001b[0m\u001b[1;33m\u001b[0m\u001b[0m\n\u001b[0m\u001b[0;32m     10\u001b[0m \u001b[1;33m\u001b[0m\u001b[0m\n\u001b[0;32m     11\u001b[0m \u001b[1;32mdef\u001b[0m \u001b[0mfind_matches\u001b[0m\u001b[1;33m(\u001b[0m\u001b[0melemid\u001b[0m\u001b[1;33m,\u001b[0m \u001b[0marray\u001b[0m\u001b[1;33m)\u001b[0m\u001b[1;33m:\u001b[0m\u001b[1;33m\u001b[0m\u001b[1;33m\u001b[0m\u001b[0m\n",
      "\u001b[1;31mIndexError\u001b[0m: list index out of range"
     ]
    }
   ],
   "source": [
    "find_n_best_matches(1,couple_points,dev_pandas_sorted)"
   ]
  },
  {
   "cell_type": "code",
   "execution_count": null,
   "metadata": {},
   "outputs": [],
   "source": []
  }
 ],
 "metadata": {
  "kernelspec": {
   "display_name": "Python 3",
   "language": "python",
   "name": "python3"
  },
  "language_info": {
   "codemirror_mode": {
    "name": "ipython",
    "version": 3
   },
   "file_extension": ".py",
   "mimetype": "text/x-python",
   "name": "python",
   "nbconvert_exporter": "python",
   "pygments_lexer": "ipython3",
   "version": "3.8.2"
  }
 },
 "nbformat": 4,
 "nbformat_minor": 4
}
