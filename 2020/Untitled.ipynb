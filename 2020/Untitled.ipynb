{
 "cells": [
  {
   "cell_type": "code",
   "execution_count": 362,
   "metadata": {},
   "outputs": [],
   "source": [
    "import pandas as pd\n",
    "import numpy as np\n",
    "fn = \"a_solar.txt\"\n",
    "f = open(fn, \"r\")"
   ]
  },
  {
   "cell_type": "code",
   "execution_count": 363,
   "metadata": {},
   "outputs": [
    {
     "name": "stdout",
     "output_type": "stream",
     "text": [
      "5 3\n",
      "\n"
     ]
    }
   ],
   "source": [
    "#Line 1\n",
    "l1 = f.readline()\n",
    "print(l1)"
   ]
  },
  {
   "cell_type": "code",
   "execution_count": 364,
   "metadata": {},
   "outputs": [],
   "source": [
    "W = int(l1.split()[0])\n",
    "H = int(l1.split()[1])"
   ]
  },
  {
   "cell_type": "code",
   "execution_count": 365,
   "metadata": {},
   "outputs": [],
   "source": [
    "map_conv = {'#' : 0, '_':1, 'M':2}\n",
    "def read_map(f):\n",
    "    map_int = []\n",
    "    map_c = []\n",
    "    for x in range(H):\n",
    "        line = f.readline()\n",
    "        int_line = [map_conv[i] for i in list(line)[:-1] ] \n",
    "        char_line = list(line)[:-1]\n",
    "        map_int.append(int_line)\n",
    "        map_c.append(char_line)\n",
    "    return map_int, map_c"
   ]
  },
  {
   "cell_type": "code",
   "execution_count": 366,
   "metadata": {},
   "outputs": [],
   "source": [
    "map_int, map_c = read_map(f)\n"
   ]
  },
  {
   "cell_type": "code",
   "execution_count": 367,
   "metadata": {},
   "outputs": [],
   "source": [
    "D = int(f.readline().split()[0]) "
   ]
  },
  {
   "cell_type": "code",
   "execution_count": 368,
   "metadata": {},
   "outputs": [],
   "source": [
    "class Developer:\n",
    "    def __init__(self,compagnia=\"\",bonus=0,n_skills=0, skills=[] ):\n",
    "        self.compagnia = compagnia\n",
    "        self.bonus = bonus\n",
    "        self.n_skills = n_skills\n",
    "        self.skills = skills"
   ]
  },
  {
   "cell_type": "code",
   "execution_count": 369,
   "metadata": {},
   "outputs": [],
   "source": [
    "developers = []\n",
    "for n in range(D):\n",
    "    l = f.readline()\n",
    "    l_split = l.split()\n",
    "    developer = Developer()\n",
    "    developer.compagnia = l_split[0]\n",
    "    developer.bonus = int(l_split[1])\n",
    "    developer.n_skills = int(l_split[2])\n",
    "    developer.skills = l_split[3:]\n",
    "    developers.append(developer)\n",
    "    "
   ]
  },
  {
   "cell_type": "code",
   "execution_count": 370,
   "metadata": {},
   "outputs": [],
   "source": [
    "class ProjecManager:\n",
    "    def __init__(self,compagnia=\"\",bonus=0):\n",
    "        self.compagnia = compagnia\n",
    "        self.bonus = bonus\n",
    "       "
   ]
  },
  {
   "cell_type": "code",
   "execution_count": 371,
   "metadata": {},
   "outputs": [],
   "source": [
    "M = int(f.readline().split()[0]) "
   ]
  },
  {
   "cell_type": "code",
   "execution_count": 372,
   "metadata": {},
   "outputs": [],
   "source": [
    "pms = []\n",
    "for n in range(M):\n",
    "    l = f.readline()\n",
    "    l_split = l.split()\n",
    "    pm = ProjecManager()\n",
    "    pm.compagnia = l_split[0]\n",
    "    pm.bonus = int(l_split[1])\n",
    "    pms.append(pm)\n",
    "    "
   ]
  },
  {
   "cell_type": "code",
   "execution_count": 373,
   "metadata": {},
   "outputs": [],
   "source": [
    "compagnia = [pm.compagnia for pm in pms]\n",
    "bonus = [pm.bonus for pm in pms]\n",
    "d = {'compagnia': compagnia, 'bonus': bonus}\n",
    "pms_pandas = pd.DataFrame(d)"
   ]
  },
  {
   "cell_type": "code",
   "execution_count": 374,
   "metadata": {},
   "outputs": [],
   "source": [
    "compagnia = [dev.compagnia for dev in developers]\n",
    "bonus = [dev.bonus for dev in developers]\n",
    "n_skills = [dev.n_skills for dev in developers]\n",
    "skills = [dev.skills for dev in developers]\n",
    "d = {'compagnia': compagnia, 'bonus': bonus, 'n_skills': n_skills, 'skills':skills}\n",
    "dev_pandas = pd.DataFrame(d)"
   ]
  },
  {
   "cell_type": "code",
   "execution_count": 375,
   "metadata": {},
   "outputs": [],
   "source": [
    "def points_dev_dev(developer1 = Developer(), developer2 = Developer()):\n",
    "    common_skills = 0\n",
    "    for i in range(developer1.n_skills):\n",
    "        for j in range(i, developer2.n_skills):\n",
    "            if developer1.skills[i] == developer2.skills[j]:\n",
    "                common_skills = common_skills + 1\n",
    "    diff_skills = developer1.n_skills + developer2.n_skills - (common_skills * 2)\n",
    "    if developer1.compagnia == developer2.compagnia:\n",
    "        bonus_potential = developer1.bonus * developer2.bonus\n",
    "    else:\n",
    "        bonus_potential = 0\n",
    "    working_potential = common_skills * diff_skills\n",
    "    points = bonus_potential + working_potential\n",
    "    return points\n",
    "\n",
    "\n",
    "def points_pm(developer1, developer2):\n",
    "    if developer1.compagnia == developer2.compagnia:\n",
    "        bonus_potential = developer1.bonus * developer2.bonus\n",
    "    else:\n",
    "        bonus_potential = 0\n",
    "    return bonus_potential\n",
    "\n",
    "def points_dev_dev_pandas(developer1, developer2):\n",
    "    common_skills = 0\n",
    "    for i in range(developer1['n_skills']):\n",
    "        for j in range(i, developer2['n_skills']):\n",
    "            if developer1['skills'][i] == developer2['skills'][j]:\n",
    "                common_skills = common_skills + 1\n",
    "    diff_skills = developer1['n_skills'] + developer2['n_skills'] - (common_skills * 2)\n",
    "    if developer1['compagnia'] == developer2['compagnia']:\n",
    "        bonus_potential = developer1['bonus'] * developer2['bonus']\n",
    "    else:\n",
    "        bonus_potential = 0\n",
    "    working_potential = common_skills * diff_skills\n",
    "    points = bonus_potential + working_potential\n",
    "    return points\n",
    "\n",
    "\n",
    "def points_pm_pandas(developer1, developer2):\n",
    "    if developer1['compagnia'] == developer2['compagnia']:\n",
    "        bonus_potential = developer1['bonus'] * developer2['bonus']\n",
    "    else:\n",
    "        bonus_potential = 0\n",
    "    return bonus_potential\n"
   ]
  },
  {
   "cell_type": "code",
   "execution_count": 383,
   "metadata": {},
   "outputs": [],
   "source": [
    "dev_pandas_sorted = dev_pandas.sort_values('compagnia', ascending=False)\n",
    "pms_pandas_sorted = pms_pandas.sort_values('compagnia', ascending=False)"
   ]
  },
  {
   "cell_type": "code",
   "execution_count": 384,
   "metadata": {},
   "outputs": [
    {
     "data": {
      "text/plain": [
       "58"
      ]
     },
     "execution_count": 384,
     "metadata": {},
     "output_type": "execute_result"
    }
   ],
   "source": [
    "points_dev_dev_pandas(dev_pandas_sorted.iloc[0], dev_pandas_sorted.iloc[1])"
   ]
  },
  {
   "cell_type": "code",
   "execution_count": 385,
   "metadata": {},
   "outputs": [
    {
     "data": {
      "text/plain": [
       "[('abc', 121), ('abc', 148), ('abc', 221), ('abc', 231)]"
      ]
     },
     "execution_count": 385,
     "metadata": {},
     "output_type": "execute_result"
    }
   ],
   "source": [
    "sorted([('abc', 121),('abc', 231),('abc', 148), ('abc',221)], key=lambda x: x[1])\n"
   ]
  },
  {
   "cell_type": "code",
   "execution_count": 386,
   "metadata": {},
   "outputs": [],
   "source": [
    "test = [('abc', 121),('abc', 231),('abc', 148), ('abc',221)]\n",
    "match = [elem for elem in test if elem[1]==121]"
   ]
  },
  {
   "cell_type": "code",
   "execution_count": 501,
   "metadata": {},
   "outputs": [],
   "source": [
    "def sortSecond(val):\n",
    "    return val[2]\n",
    "\n",
    "\n",
    "def find_couples():\n",
    "    couple_points = []\n",
    "    for i in range(0, 5):\n",
    "        for j in range(i + 1, 5):\n",
    "            points = points_dev_dev_pandas(dev_pandas_sorted.iloc[i], dev_pandas_sorted.iloc[j])\n",
    "            couple_points.append([dev_pandas_sorted.index[i], dev_pandas_sorted.index[j], points, 0])\n",
    "    couple_points.sort(key=sortSecond, reverse=True)\n",
    "    return couple_points\n",
    "couple_points = find_couples()\n",
    "\n"
   ]
  },
  {
   "cell_type": "code",
   "execution_count": 508,
   "metadata": {},
   "outputs": [],
   "source": [
    "def find_n_best_matches(n, couple_points, dev_pandas_sorted):\n",
    "    if len(couple_points)==0:\n",
    "        return 0,[],couple_points\n",
    "    idx = couple_points[0][0]\n",
    "    matches = find_matches(idx,couple_points)\n",
    "    n = n if len(matches) >= n else len(matches)\n",
    "    if n == 0:\n",
    "        return 0,[],couple_points\n",
    "    for match in matches[:n]:\n",
    "        #couple_points.pop(match[1])\n",
    "        #print(match[1])\n",
    "        dev_pandas_sorted.drop((match[0][0] != idx) * match[0][0] + (match[0][1] != idx) * match[0][1])\n",
    "    output_id = [idx]+[(matches[n][0][0] != idx) * matches[n][0][0] + (matches[n][0][1] != idx) * matches[n][0][1] for n in range(n)]\n",
    "    temp = []\n",
    "    for j in couple_points:\n",
    "        print(j)\n",
    "        if (j[0]  in output_id) and (j[1]  in output_id):\n",
    "            temp.append(j)\n",
    "    couple_points = temp\n",
    "    #for p,couple in enumerate(couple_points):\n",
    "    #    if (couple[0] in output_id) or (couple[1] in output_id):\n",
    "    #        print(p)\n",
    "    #        couple_points.pop(p)\n",
    "    return n+1, output_id, couple_points\n",
    "\n",
    "def find_matches(elemid, array):\n",
    "    ids =[]\n",
    "    matches = []\n",
    "    i = 0\n",
    "    for elem in array:\n",
    "        if elem[0]==elemid or elem[1]==elemid:\n",
    "            matches.append((elem,i))\n",
    "        i = i+1\n",
    "        \n",
    "    #matches = [(elem,n) for n,elem in enumerate(array) if elem[0]==elemid or elem[1]==elemid]\n",
    "    #matches = sorted(matches, key=lambda x: x[2])\n",
    "    return matches\n",
    "\n"
   ]
  },
  {
   "cell_type": "code",
   "execution_count": 509,
   "metadata": {},
   "outputs": [
    {
     "name": "stdout",
     "output_type": "stream",
     "text": [
      "[0, 2, 58, 0]\n",
      "[2, 7, 19, 0]\n",
      "[0, 7, 14, 0]\n",
      "[0, 3, 3, 0]\n",
      "[4, 3, 3, 0]\n",
      "[0, 4, 0, 0]\n",
      "[2, 4, 0, 0]\n",
      "[2, 3, 0, 0]\n",
      "[7, 4, 0, 0]\n",
      "[7, 3, 0, 0]\n"
     ]
    },
    {
     "data": {
      "text/plain": [
       "(3, [0, 2, 7], [[0, 2, 58, 0], [2, 7, 19, 0], [0, 7, 14, 0]])"
      ]
     },
     "execution_count": 509,
     "metadata": {},
     "output_type": "execute_result"
    }
   ],
   "source": [
    " find_n_best_matches(2,couple_points,dev_pandas_sorted)"
   ]
  },
  {
   "cell_type": "code",
   "execution_count": 492,
   "metadata": {},
   "outputs": [
    {
     "data": {
      "text/plain": [
       "True"
      ]
     },
     "execution_count": 492,
     "metadata": {},
     "output_type": "execute_result"
    }
   ],
   "source": [
    "0 in [0,2]"
   ]
  },
  {
   "cell_type": "code",
   "execution_count": 489,
   "metadata": {},
   "outputs": [
    {
     "data": {
      "text/plain": [
       "[0, 3, 3, 0]"
      ]
     },
     "execution_count": 489,
     "metadata": {},
     "output_type": "execute_result"
    }
   ],
   "source": [
    "couple_points.pop(0)"
   ]
  },
  {
   "cell_type": "code",
   "execution_count": 497,
   "metadata": {},
   "outputs": [
    {
     "data": {
      "text/plain": [
       "[[0, 2, 58, 0],\n",
       " [2, 7, 19, 0],\n",
       " [0, 7, 14, 0],\n",
       " [0, 3, 3, 0],\n",
       " [4, 3, 3, 0],\n",
       " [0, 4, 0, 0],\n",
       " [2, 4, 0, 0],\n",
       " [2, 3, 0, 0],\n",
       " [7, 4, 0, 0],\n",
       " [7, 3, 0, 0]]"
      ]
     },
     "execution_count": 497,
     "metadata": {},
     "output_type": "execute_result"
    }
   ],
   "source": [
    "couple_points"
   ]
  },
  {
   "cell_type": "code",
   "execution_count": 421,
   "metadata": {},
   "outputs": [
    {
     "data": {
      "text/html": [
       "<div>\n",
       "<style scoped>\n",
       "    .dataframe tbody tr th:only-of-type {\n",
       "        vertical-align: middle;\n",
       "    }\n",
       "\n",
       "    .dataframe tbody tr th {\n",
       "        vertical-align: top;\n",
       "    }\n",
       "\n",
       "    .dataframe thead th {\n",
       "        text-align: right;\n",
       "    }\n",
       "</style>\n",
       "<table border=\"1\" class=\"dataframe\">\n",
       "  <thead>\n",
       "    <tr style=\"text-align: right;\">\n",
       "      <th></th>\n",
       "      <th>compagnia</th>\n",
       "      <th>bonus</th>\n",
       "      <th>n_skills</th>\n",
       "      <th>skills</th>\n",
       "    </tr>\n",
       "  </thead>\n",
       "  <tbody>\n",
       "    <tr>\n",
       "      <th>0</th>\n",
       "      <td>opn</td>\n",
       "      <td>7</td>\n",
       "      <td>2</td>\n",
       "      <td>[java, bpm]</td>\n",
       "    </tr>\n",
       "    <tr>\n",
       "      <th>1</th>\n",
       "      <td>clstr</td>\n",
       "      <td>5</td>\n",
       "      <td>2</td>\n",
       "      <td>[python, azure]</td>\n",
       "    </tr>\n",
       "    <tr>\n",
       "      <th>2</th>\n",
       "      <td>opn</td>\n",
       "      <td>8</td>\n",
       "      <td>2</td>\n",
       "      <td>[python, java]</td>\n",
       "    </tr>\n",
       "    <tr>\n",
       "      <th>3</th>\n",
       "      <td>com_vl</td>\n",
       "      <td>4</td>\n",
       "      <td>3</td>\n",
       "      <td>[java, cybersecurity, big_data]</td>\n",
       "    </tr>\n",
       "    <tr>\n",
       "      <th>4</th>\n",
       "      <td>mac</td>\n",
       "      <td>1</td>\n",
       "      <td>2</td>\n",
       "      <td>[nlp, big_data]</td>\n",
       "    </tr>\n",
       "    <tr>\n",
       "      <th>5</th>\n",
       "      <td>clstr</td>\n",
       "      <td>3</td>\n",
       "      <td>2</td>\n",
       "      <td>[azure, c#]</td>\n",
       "    </tr>\n",
       "    <tr>\n",
       "      <th>6</th>\n",
       "      <td>com_vl</td>\n",
       "      <td>6</td>\n",
       "      <td>2</td>\n",
       "      <td>[cybersecurity, python]</td>\n",
       "    </tr>\n",
       "    <tr>\n",
       "      <th>7</th>\n",
       "      <td>opn</td>\n",
       "      <td>2</td>\n",
       "      <td>3</td>\n",
       "      <td>[bpm, python, project_management]</td>\n",
       "    </tr>\n",
       "    <tr>\n",
       "      <th>8</th>\n",
       "      <td>ble</td>\n",
       "      <td>5</td>\n",
       "      <td>4</td>\n",
       "      <td>[java, c, sql, junit]</td>\n",
       "    </tr>\n",
       "    <tr>\n",
       "      <th>9</th>\n",
       "      <td>clstr</td>\n",
       "      <td>1</td>\n",
       "      <td>4</td>\n",
       "      <td>[python, c, java, bpm]</td>\n",
       "    </tr>\n",
       "  </tbody>\n",
       "</table>\n",
       "</div>"
      ],
      "text/plain": [
       "  compagnia  bonus  n_skills                             skills\n",
       "0       opn      7         2                        [java, bpm]\n",
       "1     clstr      5         2                    [python, azure]\n",
       "2       opn      8         2                     [python, java]\n",
       "3    com_vl      4         3    [java, cybersecurity, big_data]\n",
       "4       mac      1         2                    [nlp, big_data]\n",
       "5     clstr      3         2                        [azure, c#]\n",
       "6    com_vl      6         2            [cybersecurity, python]\n",
       "7       opn      2         3  [bpm, python, project_management]\n",
       "8       ble      5         4              [java, c, sql, junit]\n",
       "9     clstr      1         4             [python, c, java, bpm]"
      ]
     },
     "execution_count": 421,
     "metadata": {},
     "output_type": "execute_result"
    }
   ],
   "source": [
    "dev_pandas"
   ]
  },
  {
   "cell_type": "code",
   "execution_count": 280,
   "metadata": {},
   "outputs": [
    {
     "data": {
      "text/plain": [
       "[0, 4, 0, 0]"
      ]
     },
     "execution_count": 280,
     "metadata": {},
     "output_type": "execute_result"
    }
   ],
   "source": [
    "couple_points[0]"
   ]
  },
  {
   "cell_type": "code",
   "execution_count": null,
   "metadata": {},
   "outputs": [],
   "source": []
  }
 ],
 "metadata": {
  "kernelspec": {
   "display_name": "Python 3",
   "language": "python",
   "name": "python3"
  },
  "language_info": {
   "codemirror_mode": {
    "name": "ipython",
    "version": 3
   },
   "file_extension": ".py",
   "mimetype": "text/x-python",
   "name": "python",
   "nbconvert_exporter": "python",
   "pygments_lexer": "ipython3",
   "version": "3.8.2"
  }
 },
 "nbformat": 4,
 "nbformat_minor": 4
}
