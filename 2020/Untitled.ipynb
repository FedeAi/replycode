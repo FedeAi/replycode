{
 "cells": [
  {
   "cell_type": "code",
   "execution_count": 143,
   "metadata": {},
   "outputs": [],
   "source": [
    "import pandas as pd\n",
    "import numpy as np\n",
    "fn = \"b_dream.txt\"\n",
    "f = open(fn, \"r\")"
   ]
  },
  {
   "cell_type": "code",
   "execution_count": 144,
   "metadata": {},
   "outputs": [
    {
     "name": "stdout",
     "output_type": "stream",
     "text": [
      "100 100\n",
      "\n"
     ]
    }
   ],
   "source": [
    "#Line 1\n",
    "l1 = f.readline()\n",
    "print(l1)"
   ]
  },
  {
   "cell_type": "code",
   "execution_count": 145,
   "metadata": {},
   "outputs": [],
   "source": [
    "W = int(l1.split()[0])\n",
    "H = int(l1.split()[1])"
   ]
  },
  {
   "cell_type": "code",
   "execution_count": 146,
   "metadata": {},
   "outputs": [],
   "source": [
    "map_conv = {'#' : 0, '_':1, 'M':2}\n",
    "def read_map(f):\n",
    "    map_int = []\n",
    "    map_c = []\n",
    "    for x in range(H):\n",
    "        line = f.readline()\n",
    "        int_line = [map_conv[i] for i in list(line)[:-1] ] \n",
    "        char_line = list(line)[:-1]\n",
    "        map_int.append(int_line)\n",
    "        map_c.append(char_line)\n",
    "    return map_int, map_c"
   ]
  },
  {
   "cell_type": "code",
   "execution_count": 147,
   "metadata": {},
   "outputs": [],
   "source": [
    "map_int, map_c = read_map(f)\n"
   ]
  },
  {
   "cell_type": "code",
   "execution_count": 148,
   "metadata": {},
   "outputs": [],
   "source": [
    "D = int(f.readline().split()[0]) "
   ]
  },
  {
   "cell_type": "code",
   "execution_count": 149,
   "metadata": {},
   "outputs": [],
   "source": [
    "class Developer:\n",
    "    def __init__(self,compagnia=\"\",bonus=0,n_skills=0, skills=[] ):\n",
    "        self.compagnia = compagnia\n",
    "        self.bonus = bonus\n",
    "        self.n_skills = n_skills\n",
    "        self.skills = skills"
   ]
  },
  {
   "cell_type": "code",
   "execution_count": 150,
   "metadata": {},
   "outputs": [],
   "source": [
    "developers = []\n",
    "for n in range(D):\n",
    "    l = f.readline()\n",
    "    l_split = l.split()\n",
    "    developer = Developer()\n",
    "    developer.compagnia = l_split[0]\n",
    "    developer.bonus = int(l_split[1])\n",
    "    developer.n_skills = int(l_split[2])\n",
    "    developer.skills = l_split[3:]\n",
    "    developers.append(developer)\n",
    "    "
   ]
  },
  {
   "cell_type": "code",
   "execution_count": 151,
   "metadata": {},
   "outputs": [],
   "source": [
    "class ProjecManager:\n",
    "    def __init__(self,compagnia=\"\",bonus=0):\n",
    "        self.compagnia = compagnia\n",
    "        self.bonus = bonus\n",
    "       "
   ]
  },
  {
   "cell_type": "code",
   "execution_count": 152,
   "metadata": {},
   "outputs": [],
   "source": [
    "M = int(f.readline().split()[0]) "
   ]
  },
  {
   "cell_type": "code",
   "execution_count": 153,
   "metadata": {},
   "outputs": [],
   "source": [
    "pms = []\n",
    "for n in range(M):\n",
    "    l = f.readline()\n",
    "    l_split = l.split()\n",
    "    pm = ProjecManager()\n",
    "    pm.compagnia = l_split[0]\n",
    "    pm.bonus = int(l_split[1])\n",
    "    pms.append(pm)\n",
    "    "
   ]
  },
  {
   "cell_type": "code",
   "execution_count": 154,
   "metadata": {},
   "outputs": [],
   "source": [
    "compagnia = [pm.compagnia for pm in pms]\n",
    "bonus = [pm.bonus for pm in pms]\n",
    "d = {'compagnia': compagnia, 'bonus': bonus}\n",
    "pms_pandas = pd.DataFrame(d)"
   ]
  },
  {
   "cell_type": "code",
   "execution_count": 155,
   "metadata": {},
   "outputs": [],
   "source": [
    "compagnia = [dev.compagnia for dev in developers]\n",
    "bonus = [dev.bonus for dev in developers]\n",
    "n_skills = [dev.n_skills for dev in developers]\n",
    "skills = [dev.skills for dev in developers]\n",
    "d = {'compagnia': compagnia, 'bonus': bonus, 'n_skills': n_skills, 'skills':skills}\n",
    "dev_pandas = pd.DataFrame(d)"
   ]
  },
  {
   "cell_type": "code",
   "execution_count": 170,
   "metadata": {},
   "outputs": [],
   "source": [
    "def points_dev_dev(developer1 = Developer(), developer2 = Developer()):\n",
    "    common_skills = 0\n",
    "    for i in range(developer1.n_skills):\n",
    "        for j in range(i, developer2.n_skills):\n",
    "            if developer1.skills[i] == developer2.skills[j]:\n",
    "                common_skills = common_skills + 1\n",
    "    diff_skills = developer1.n_skills + developer2.n_skills - (common_skills * 2)\n",
    "    if developer1.compagnia == developer2.compagnia:\n",
    "        bonus_potential = developer1.bonus * developer2.bonus\n",
    "    else:\n",
    "        bonus_potential = 0\n",
    "    working_potential = common_skills * diff_skills\n",
    "    points = bonus_potential + working_potential\n",
    "    return points\n",
    "\n",
    "\n",
    "def points_pm(developer1, developer2):\n",
    "    if developer1.compagnia == developer2.compagnia:\n",
    "        bonus_potential = developer1.bonus * developer2.bonus\n",
    "    else:\n",
    "        bonus_potential = 0\n",
    "    return bonus_potential\n",
    "\n",
    "def points_dev_dev_pandas(developer1, developer2):\n",
    "    common_skills = 0\n",
    "    for i in range(developer1['n_skills']):\n",
    "        for j in range(i, developer2['n_skills']):\n",
    "            if developer1['skills'][i] == developer2['skills'][j]:\n",
    "                common_skills = common_skills + 1\n",
    "    diff_skills = developer1['n_skills'] + developer2['n_skills'] - (common_skills * 2)\n",
    "    if developer1['compagnia'] == developer2['compagnia']:\n",
    "        bonus_potential = developer1['bonus'] * developer2['bonus']\n",
    "    else:\n",
    "        bonus_potential = 0\n",
    "    working_potential = common_skills * diff_skills\n",
    "    points = bonus_potential + working_potential\n",
    "    return points\n",
    "\n",
    "\n",
    "def points_pm_pandas(developer1, developer2):\n",
    "    if developer1['compagnia'] == developer2['compagnia']:\n",
    "        bonus_potential = developer1['bonus'] * developer2['bonus']\n",
    "    else:\n",
    "        bonus_potential = 0\n",
    "    return bonus_potential\n"
   ]
  },
  {
   "cell_type": "code",
   "execution_count": 156,
   "metadata": {},
   "outputs": [],
   "source": [
    "dev_pandas_sorted = dev_pandas.sort_values('compagnia', ascending=False)\n",
    "pms_pandas_sorted = pms_pandas.sort_values('compagnia', ascending=False)"
   ]
  },
  {
   "cell_type": "code",
   "execution_count": 176,
   "metadata": {},
   "outputs": [
    {
     "data": {
      "text/plain": [
       "0"
      ]
     },
     "execution_count": 176,
     "metadata": {},
     "output_type": "execute_result"
    }
   ],
   "source": [
    "points_pm_pandas(pms_pandas_sorted.loc[0], pms_pandas_sorted.loc[10])"
   ]
  },
  {
   "cell_type": "code",
   "execution_count": 178,
   "metadata": {},
   "outputs": [
    {
     "data": {
      "text/plain": [
       "19"
      ]
     },
     "execution_count": 178,
     "metadata": {},
     "output_type": "execute_result"
    }
   ],
   "source": [
    "dev_pandas_sorted.loc[0]['n_skills']"
   ]
  },
  {
   "cell_type": "code",
   "execution_count": null,
   "metadata": {},
   "outputs": [],
   "source": []
  },
  {
   "cell_type": "code",
   "execution_count": null,
   "metadata": {},
   "outputs": [],
   "source": []
  }
 ],
 "metadata": {
  "kernelspec": {
   "display_name": "Python 3",
   "language": "python",
   "name": "python3"
  },
  "language_info": {
   "codemirror_mode": {
    "name": "ipython",
    "version": 3
   },
   "file_extension": ".py",
   "mimetype": "text/x-python",
   "name": "python",
   "nbconvert_exporter": "python",
   "pygments_lexer": "ipython3",
   "version": "3.8.2"
  }
 },
 "nbformat": 4,
 "nbformat_minor": 4
}
